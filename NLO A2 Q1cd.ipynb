{
 "cells": [
  {
   "cell_type": "code",
   "execution_count": 1,
   "metadata": {},
   "outputs": [],
   "source": [
    "import math\n",
    "import pandas as pd\n",
    "import numpy as np"
   ]
  },
  {
   "cell_type": "code",
   "execution_count": 2,
   "metadata": {},
   "outputs": [],
   "source": [
    "#set the theta(lambda) here\n",
    "def theta(x):\n",
    "    return 6 * (math.exp(-2 * x)) + 2 * x**2"
   ]
  },
  {
   "cell_type": "code",
   "execution_count": 42,
   "metadata": {},
   "outputs": [],
   "source": [
    "def theta_derivative(x):\n",
    "    return 4 * x - 12 * (math.exp(-2 * x))"
   ]
  },
  {
   "cell_type": "code",
   "execution_count": 39,
   "metadata": {},
   "outputs": [
    {
     "name": "stdout",
     "output_type": "stream",
     "text": [
      "1.1520000000000001\n"
     ]
    }
   ],
   "source": [
    "print(theta_derivative(0.4))"
   ]
  },
  {
   "cell_type": "code",
   "execution_count": 43,
   "metadata": {},
   "outputs": [],
   "source": [
    "def theta_derivative_derivative(x):\n",
    "    return 4 + 24 * (math.exp(-2 * x))"
   ]
  },
  {
   "cell_type": "code",
   "execution_count": 4,
   "metadata": {},
   "outputs": [],
   "source": [
    "def mod(x):\n",
    "    if x < 0:\n",
    "        return -1 * x\n",
    "    else:\n",
    "        return x"
   ]
  },
  {
   "cell_type": "code",
   "execution_count": 17,
   "metadata": {},
   "outputs": [],
   "source": [
    "def bisectionalSearch(a,b,length):\n",
    "    \n",
    "    l = (a + b)/2\n",
    "    \n",
    "    df = pd.DataFrame([], columns = list('abl1'))\n",
    "    print(\"1\")\n",
    "    while(mod(b - a) > length):\n",
    "        if theta_derivative(l) == 0:\n",
    "            print(f\"{l} is the minima\")\n",
    "            return\n",
    "        \n",
    "        elif theta_derivative(l) > 0:\n",
    "            b = l\n",
    "            l = (a + b)/2\n",
    "        \n",
    "        else:\n",
    "            a = l\n",
    "            l = (a + b)/2\n",
    "        df = df.append(pd.DataFrame([[a,b,l,theta_derivative(l)]], columns = list('abl1')), ignore_index = True)\n",
    "    \n",
    "    print(df)"
   ]
  },
  {
   "cell_type": "code",
   "execution_count": 57,
   "metadata": {},
   "outputs": [],
   "source": [
    "#the while condition needs to be implemented\n",
    "def newtonMethod(l, e):\n",
    "    l1 = l - (theta_derivative(l)/theta_derivative_derivative(l))\n",
    "    \n",
    "    df = pd.DataFrame([[l,theta_derivative(l),theta_derivative_derivative(l),l1]], columns = list('l12u'))\n",
    "    #print(f\"{l},{l1}\")\n",
    "    \n",
    "    for i in range(100):\n",
    "    #while(mod(l - l1) > e or theta_derivative(l) > e):\n",
    "        l = l1\n",
    "        l1 = l - (theta_derivative(l)/theta_derivative_derivative(l)) \n",
    "        \n",
    "        #print(f\"{l},{l1}\")\n",
    "        df = df.append(pd.DataFrame([[l,theta_derivative(l),theta_derivative_derivative(l),l1]], columns = list('l12u')), ignore_index = True)\n",
    "        \n",
    "        if l == l1:\n",
    "            break\n",
    "    print(df)"
   ]
  },
  {
   "cell_type": "code",
   "execution_count": 58,
   "metadata": {},
   "outputs": [
    {
     "name": "stdout",
     "output_type": "stream",
     "text": [
      "1\n",
      "          a        b         l         1\n",
      "0  0.000000        5  2.500000  9.919145\n",
      "1  0.000000      2.5  1.250000  4.014980\n",
      "2  0.000000     1.25  0.625000 -0.938058\n",
      "3  0.625000     1.25  0.937500  1.909740\n",
      "4  0.625000   0.9375  0.781250  0.609663\n",
      "5  0.625000  0.78125  0.703125 -0.128226\n",
      "6  0.703125  0.78125  0.742188  0.249023\n"
     ]
    }
   ],
   "source": [
    "#bisectional search between -5 and 5 with required accuracy of atleast 0.1\n",
    "\n",
    "bisectionalSearch(-5,5,0.1)"
   ]
  },
  {
   "cell_type": "code",
   "execution_count": 59,
   "metadata": {},
   "outputs": [
    {
     "name": "stdout",
     "output_type": "stream",
     "text": [
      "          l             1          2         u\n",
      "0  0.000000 -1.200000e+01  28.000000  0.428571\n",
      "1  0.428571 -3.378188e+00  14.184948  0.666724\n",
      "2  0.666724 -4.959022e-01  10.325600  0.714751\n",
      "3  0.714751 -1.413413e-02   9.746276  0.716201\n",
      "4  0.716201 -1.207333e-05   9.729633  0.716202\n",
      "5  0.716202 -8.821832e-12   9.729619  0.716202\n",
      "6  0.716202  0.000000e+00   9.729619  0.716202\n"
     ]
    }
   ],
   "source": [
    "#newtonmMethod search from 0 \n",
    "newtonMethod(0,1)"
   ]
  },
  {
   "cell_type": "code",
   "execution_count": null,
   "metadata": {},
   "outputs": [],
   "source": []
  }
 ],
 "metadata": {
  "kernelspec": {
   "display_name": "Python 3",
   "language": "python",
   "name": "python3"
  },
  "language_info": {
   "codemirror_mode": {
    "name": "ipython",
    "version": 3
   },
   "file_extension": ".py",
   "mimetype": "text/x-python",
   "name": "python",
   "nbconvert_exporter": "python",
   "pygments_lexer": "ipython3",
   "version": "3.7.0"
  }
 },
 "nbformat": 4,
 "nbformat_minor": 4
}
