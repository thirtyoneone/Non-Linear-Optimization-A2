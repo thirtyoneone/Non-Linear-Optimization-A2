{
 "cells": [
  {
   "cell_type": "code",
   "execution_count": 1,
   "metadata": {},
   "outputs": [],
   "source": [
    "#line search without derivative"
   ]
  },
  {
   "cell_type": "code",
   "execution_count": 2,
   "metadata": {},
   "outputs": [],
   "source": [
    "import math\n",
    "import pandas as pd\n",
    "import numpy as np"
   ]
  },
  {
   "cell_type": "code",
   "execution_count": 46,
   "metadata": {},
   "outputs": [],
   "source": [
    "#set the theta(lambda) here\n",
    "def theta(x):\n",
    "    return 6 * (math.exp(-2*x)) + 2 * x**2"
   ]
  },
  {
   "cell_type": "code",
   "execution_count": 4,
   "metadata": {},
   "outputs": [],
   "source": [
    "def mod(x):\n",
    "    if x < 0:\n",
    "        return -1 * x\n",
    "    else:\n",
    "        return x"
   ]
  },
  {
   "cell_type": "code",
   "execution_count": 5,
   "metadata": {},
   "outputs": [],
   "source": [
    "def goldenSection(a,b,length):\n",
    "    alpha = 0.618\n",
    "    \n",
    "    #order on the line a, l, u, b\n",
    "    l = a + (1 - alpha) * (b - a)\n",
    "    u = a + alpha * (b-a)\n",
    "    tl = theta(l)\n",
    "    tu = theta(u)\n",
    "    \n",
    "    n = 1\n",
    "    \n",
    "    df = pd.DataFrame([[a,b,l,u,tl,tu]], columns = list('ablu12'))\n",
    "    \n",
    "    while((mod(b-a) > length) and (n < 101)):\n",
    "        #print(df)\n",
    "        if(tl > tu):\n",
    "            #the interval reduced from a,b to l,b\n",
    "            a = l\n",
    "            \n",
    "            #lk+1 = uk\n",
    "            l = u\n",
    "            tl = tu #this step is key because this saves us one theta computation each iter\n",
    "            \n",
    "            #uk+1 =  ak+1 + alpha * (bk+1-ak+1)\n",
    "            u =  a + alpha * (b-a)\n",
    "            tu = theta(u)\n",
    "                                \n",
    "        else:\n",
    "            #the interval reduces to a,u\n",
    "            b = u\n",
    "            \n",
    "            #uk+1 = lk\n",
    "            u = l\n",
    "            tu = tl #this step is key because this saves us one theta computation each iter\n",
    "            \n",
    "            #lk+1 = ak+1 + (1 - alpha) * (bk+1 - ak+1)\n",
    "            l = a + (1 - alpha) * (b - a)\n",
    "            tl = theta(l)\n",
    "            \n",
    "        #updating iter\n",
    "        n += 1\n",
    "        df = df.append(pd.DataFrame([[a,b,l,u,tl,tu]], columns = list('ablu12')), ignore_index = True)\n",
    "    print(df)"
   ]
  },
  {
   "cell_type": "code",
   "execution_count": 6,
   "metadata": {},
   "outputs": [],
   "source": [
    "def fib(n):\n",
    "    l = np.zeros([n,1])\n",
    "    #print(l)\n",
    "    for i in range(n):\n",
    "        if i == 0 or i == 1:\n",
    "            l[i] = 1\n",
    "        else:\n",
    "            l[i] = (l[i-1] + l[i-2])\n",
    "    return l"
   ]
  },
  {
   "cell_type": "code",
   "execution_count": 37,
   "metadata": {},
   "outputs": [
    {
     "name": "stdout",
     "output_type": "stream",
     "text": [
      "[34.]\n"
     ]
    }
   ],
   "source": [
    "print(fib(10)[8])"
   ]
  },
  {
   "cell_type": "code",
   "execution_count": 68,
   "metadata": {},
   "outputs": [],
   "source": [
    "#some error\n",
    "def fibonacciSearch(a,b,n):\n",
    "    flist = fib(n)\n",
    "    \n",
    "    #print(a)\n",
    "    l = a + (flist[n-1-2]/flist[n-1]) * (b - a)\n",
    "    u = a + (flist[n-1-1]/flist[n-1]) * (b - a)\n",
    "    tl = theta(l)\n",
    "    tu = theta(u)\n",
    "    \n",
    "    \n",
    "    df = pd.DataFrame([[a,b,l,u,tl,tu]], columns = list('ablu12'))\n",
    "    #print(f\"{a}, {b}, {l}, {u}, {tl}, {tu}\")\n",
    "    for k in range(1,n-1):\n",
    "        \n",
    "        if(tl > tu):\n",
    "            #the interval reduced from a,b to l,b\n",
    "            a = l\n",
    "            \n",
    "            #lk+1 = uk\n",
    "            l = u\n",
    "            tl = tu #this step is key because this saves us one theta computation each iter\n",
    "            \n",
    "        \n",
    "            u =  a + (flist[n-1 - k - 1]/flist[n-1 - k]) * (b - a)\n",
    "            #print(u)\n",
    "            tu = theta(u)\n",
    "                       \n",
    "        else:\n",
    "            #the interval reduces to a,u\n",
    "            b = u\n",
    "            \n",
    "            #uk+1 = lk\n",
    "            u = l\n",
    "            tu = tl #this step is key because this saves us one theta computation each iter\n",
    "            \n",
    "           \n",
    "            l = a + (flist[n-1 - k - 2]/flist[n-1 - k]) * (b - a)\n",
    "            tl = theta(l)\n",
    "        \n",
    "        #print(f\"{a}, {b}, {l}, {u}, {tl}, {tu}\")\n",
    "        df = df.append(pd.DataFrame([[a,b,l,u,tl,tu]], columns = list('ablu12')), ignore_index = True)\n",
    "    print(df)"
   ]
  },
  {
   "cell_type": "code",
   "execution_count": 69,
   "metadata": {},
   "outputs": [
    {
     "name": "stdout",
     "output_type": "stream",
     "text": [
      "                        a                     b                      l  \\\n",
      "0                      -5                     5  [-1.1805555555555558]   \n",
      "1   [-1.1805555555555558]                     5   [1.1805555555555554]   \n",
      "2   [-1.1805555555555558]  [2.6388888888888884]  [0.27777777777777746]   \n",
      "3   [0.27777777777777746]  [2.6388888888888884]   [1.1805555555555554]   \n",
      "4   [0.27777777777777746]  [1.7361111111111107]   [0.8333333333333329]   \n",
      "5   [0.27777777777777746]  [1.1805555555555554]   [0.6249999999999998]   \n",
      "6   [0.27777777777777746]  [0.8333333333333329]  [0.48611111111111077]   \n",
      "7   [0.48611111111111077]  [0.8333333333333329]   [0.6249999999999998]   \n",
      "8    [0.6249999999999998]  [0.8333333333333329]   [0.6944444444444441]   \n",
      "9    [0.6249999999999998]  [0.7638888888888885]   [0.6944444444444442]   \n",
      "10   [0.6249999999999998]  [0.6944444444444441]    [10.62499999999998]   \n",
      "\n",
      "                       u                     1                     2  \n",
      "0   [1.1805555555555554]   [66.40377713740332]    [3.35331506010439]  \n",
      "1   [2.6388888888888884]    [3.35331506010439]   [13.95809169513523]  \n",
      "2   [1.1805555555555554]  [3.5968415120789197]    [3.35331506010439]  \n",
      "3   [1.7361111111111107]    [3.35331506010439]  [6.2144513311228895]  \n",
      "4   [1.1805555555555554]  [2.5221425059142595]    [3.35331506010439]  \n",
      "5   [0.8333333333333329]   [2.500278781161141]  [2.5221425059142595]  \n",
      "6   [0.6249999999999998]  [2.7420574246909926]   [2.500278781161141]  \n",
      "7   [0.6944444444444441]   [2.500278781161141]  [2.4606194255032836]  \n",
      "8   [0.7638888888888885]  [2.4606194255032836]   [2.469156825576106]  \n",
      "9   [0.6944444444444441]  [2.4606194255032836]  [2.4606194255032836]  \n",
      "10  [0.6944444444444442]  [225.78125000354237]  [2.4606194255032836]  \n"
     ]
    }
   ],
   "source": [
    "fibonacciSearch(-5,5,12)"
   ]
  },
  {
   "cell_type": "code",
   "execution_count": 72,
   "metadata": {},
   "outputs": [
    {
     "name": "stdout",
     "output_type": "stream",
     "text": [
      "2.4606289664192045\n"
     ]
    }
   ],
   "source": [
    "print(theta(0.6944))"
   ]
  },
  {
   "cell_type": "code",
   "execution_count": 8,
   "metadata": {},
   "outputs": [],
   "source": [
    "def dichotomousSearch(a,b,e,length):\n",
    "    df = pd.DataFrame([], columns = list('ablu12'))\n",
    "    \n",
    "    while(mod(b-a) > length):\n",
    "        l = (a+b)/2 - e\n",
    "        u = (a+b)/2 + e\n",
    "        \n",
    "        if(theta(l) > theta(u)):\n",
    "            a = l\n",
    "        else:\n",
    "            b = u\n",
    "        df = df.append(pd.DataFrame([[a,b,l,u,theta(l),theta(u)]], columns = list('ablu12')), ignore_index = True)\n",
    "    print(df)"
   ]
  },
  {
   "cell_type": "code",
   "execution_count": 12,
   "metadata": {},
   "outputs": [
    {
     "name": "stdout",
     "output_type": "stream",
     "text": [
      "           a         b         l         u          1          2\n",
      "0  -5.000000  5.000000 -1.180000  1.180000  66.330509   3.351321\n",
      "1  -1.180000  5.000000  1.180000  2.639240   3.351321  13.961777\n",
      "2  -1.180000  2.639240  0.278950  1.180000   3.590087   3.351321\n",
      "3   0.278950  2.639240  1.180000  1.737609   3.351321   6.224301\n",
      "4   0.278950  1.737609  0.836158  1.180000   2.525189   3.351321\n",
      "5   0.278950  1.180000  0.623151  0.836158   2.502032   2.525189\n",
      "6   0.278950  0.836158  0.491803  0.623151   2.727501   2.502032\n",
      "7   0.491803  0.836158  0.623151  0.704614   2.502032   2.458953\n",
      "8   0.623151  0.836158  0.704614  0.754789   2.458953   2.465432\n",
      "9   0.623151  0.754789  0.673437  0.704614   2.467346   2.458953\n",
      "10  0.673437  0.754789  0.704614  0.723712   2.458953   2.458570\n"
     ]
    }
   ],
   "source": [
    "#goldenSection search between -5 and 5 with required accuracy of atleast 0.1 or at most 100 iterations\n",
    "\n",
    "goldenSection(-5,5,0.1)"
   ]
  },
  {
   "cell_type": "code",
   "execution_count": 13,
   "metadata": {},
   "outputs": [
    {
     "name": "stdout",
     "output_type": "stream",
     "text": [
      "          a         b         l         u          1          2\n",
      "0 -0.010000         5 -0.010000  0.010000   6.121408   5.881392\n",
      "1 -0.010000     2.505  2.485000  2.505000  12.392109  12.590075\n",
      "2 -0.010000    1.2575  1.237500  1.257500   3.567790   3.647790\n",
      "3  0.613750    1.2575  0.613750  0.633750   2.511523   2.492486\n",
      "4  0.613750  0.945625  0.925625  0.945625   2.655808   2.693712\n",
      "5  0.613750  0.789688  0.769688  0.789688   2.471928   2.483836\n",
      "6  0.691719  0.789688  0.691719  0.711719   2.461241   2.458394\n"
     ]
    }
   ],
   "source": [
    "#dichotomous search between -5 and 5 with required accuracy of atleast 0.1 and epsilon = 0.01\n",
    "\n",
    "dichotomousSearch(-5,5,0.01,0.1)"
   ]
  },
  {
   "cell_type": "code",
   "execution_count": null,
   "metadata": {},
   "outputs": [],
   "source": []
  }
 ],
 "metadata": {
  "kernelspec": {
   "display_name": "Python 3",
   "language": "python",
   "name": "python3"
  },
  "language_info": {
   "codemirror_mode": {
    "name": "ipython",
    "version": 3
   },
   "file_extension": ".py",
   "mimetype": "text/x-python",
   "name": "python",
   "nbconvert_exporter": "python",
   "pygments_lexer": "ipython3",
   "version": "3.7.0"
  }
 },
 "nbformat": 4,
 "nbformat_minor": 4
}
