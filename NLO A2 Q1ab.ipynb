{
 "cells": [
  {
   "cell_type": "code",
   "execution_count": 1,
   "metadata": {},
   "outputs": [],
   "source": [
    "#line search without derivative"
   ]
  },
  {
   "cell_type": "code",
   "execution_count": 2,
   "metadata": {},
   "outputs": [],
   "source": [
    "import math\n",
    "import pandas as pd\n",
    "import numpy as np"
   ]
  },
  {
   "cell_type": "code",
   "execution_count": 9,
   "metadata": {},
   "outputs": [],
   "source": [
    "#set the theta(lambda) here\n",
    "def theta(x):\n",
    "    return x**2 + 2*x"
   ]
  },
  {
   "cell_type": "code",
   "execution_count": 4,
   "metadata": {},
   "outputs": [],
   "source": [
    "def mod(x):\n",
    "    if x < 0:\n",
    "        return -1 * x\n",
    "    else:\n",
    "        return x"
   ]
  },
  {
   "cell_type": "code",
   "execution_count": 5,
   "metadata": {},
   "outputs": [],
   "source": [
    "def goldenSection(a,b,length):\n",
    "    alpha = 0.618\n",
    "    \n",
    "    #order on the line a, l, u, b\n",
    "    l = a + (1 - alpha) * (b - a)\n",
    "    u = a + alpha * (b-a)\n",
    "    tl = theta(l)\n",
    "    tu = theta(u)\n",
    "    \n",
    "    n = 1\n",
    "    \n",
    "    df = pd.DataFrame([[a,b,l,u,tl,tu]], columns = list('ablu12'))\n",
    "    \n",
    "    while((mod(b-a) > length) and (n < 101)):\n",
    "        #print(df)\n",
    "        if(tl > tu):\n",
    "            #the interval reduced from a,b to l,b\n",
    "            a = l\n",
    "            \n",
    "            #lk+1 = uk\n",
    "            l = u\n",
    "            tl = tu #this step is key because this saves us one theta computation each iter\n",
    "            \n",
    "            #uk+1 =  ak+1 + alpha * (bk+1-ak+1)\n",
    "            u =  a + alpha * (b-a)\n",
    "            tu = theta(u)\n",
    "                                \n",
    "        else:\n",
    "            #the interval reduces to a,u\n",
    "            b = u\n",
    "            \n",
    "            #uk+1 = lk\n",
    "            u = l\n",
    "            tu = tl #this step is key because this saves us one theta computation each iter\n",
    "            \n",
    "            #lk+1 = ak+1 + (1 - alpha) * (bk+1 - ak+1)\n",
    "            l = a + (1 - alpha) * (b - a)\n",
    "            tl = theta(l)\n",
    "            \n",
    "        #updating iter\n",
    "        n += 1\n",
    "        df = df.append(pd.DataFrame([[a,b,l,u,tl,tu]], columns = list('ablu12')), ignore_index = True)\n",
    "    print(df)"
   ]
  },
  {
   "cell_type": "code",
   "execution_count": 6,
   "metadata": {},
   "outputs": [],
   "source": [
    "def fib(n):\n",
    "    l = np.zeros([n,1])\n",
    "    #print(l)\n",
    "    for i in range(n):\n",
    "        if i == 0 or i == 1:\n",
    "            l[i] = 1\n",
    "        else:\n",
    "            l[i] = (l[i-1] + l[i-2])\n",
    "    return l"
   ]
  },
  {
   "cell_type": "code",
   "execution_count": 37,
   "metadata": {},
   "outputs": [
    {
     "name": "stdout",
     "output_type": "stream",
     "text": [
      "[34.]\n"
     ]
    }
   ],
   "source": [
    "print(fib(10)[8])"
   ]
  },
  {
   "cell_type": "code",
   "execution_count": 38,
   "metadata": {},
   "outputs": [],
   "source": [
    "#some error\n",
    "def fibonacciSearch(a,b,n):\n",
    "    flist = fib(n)\n",
    "    \n",
    "    #print(a)\n",
    "    l = a + (flist[n-1-2]/flist[n-1]) * (b - a)\n",
    "    u = a + (flist[n-1-1]/flist[n-1]) * (b - a)\n",
    "    tl = theta(l)\n",
    "    tu = theta(u)\n",
    "    \n",
    "    \n",
    "    df = pd.DataFrame([[a,b,l,u,tl,tu]], columns = list('ablu12'))\n",
    "    \n",
    "    for k in range(1,n + 1):\n",
    "        \n",
    "        if(tl > tu):\n",
    "            #the interval reduced from a,b to l,b\n",
    "            a = l\n",
    "            \n",
    "            #lk+1 = uk\n",
    "            l = u\n",
    "            tl = tu #this step is key because this saves us one theta computation each iter\n",
    "            \n",
    "        \n",
    "            u =  a + (flist[n-1 - k - 1]/flist[n-1 - k]) * (b - a)\n",
    "            tu = theta(u)\n",
    "                       \n",
    "        else:\n",
    "            #the interval reduces to a,u\n",
    "            b = u\n",
    "            \n",
    "            #uk+1 = lk\n",
    "            u = l\n",
    "            tu = tl #this step is key because this saves us one theta computation each iter\n",
    "            \n",
    "           \n",
    "            l = a + (flist[n-1 - k - 2]/flist[n-1 - k]) * (b - a)\n",
    "            tl = theta(l)\n",
    "        \n",
    "        df = df.append(pd.DataFrame([[a,b,l,u,tl,tu]], columns = list('ablu12')), ignore_index = True)\n",
    "    print(df)"
   ]
  },
  {
   "cell_type": "code",
   "execution_count": 45,
   "metadata": {},
   "outputs": [
    {
     "name": "stdout",
     "output_type": "stream",
     "text": [
      "                       a                      b                      l  \\\n",
      "0                     -3                      5   [0.0588235294117645]   \n",
      "1                     -3   [1.9411764705882355]  [-1.1176470588235294]   \n",
      "2                     -3   [0.0588235294117645]  [-1.8235294117647058]   \n",
      "3  [-1.8235294117647058]   [0.0588235294117645]  [-1.1176470588235294]   \n",
      "4  [-1.8235294117647058]  [-0.6470588235294119]  [-1.3529411764705883]   \n",
      "5  [-1.3529411764705883]  [-0.6470588235294119]  [-1.1176470588235294]   \n",
      "6  [-1.3529411764705883]  [-0.8823529411764708]  [-1.1176470588235294]   \n",
      "7  [-1.3529411764705883]  [-1.1176470588235294]    [6.647058823529413]   \n",
      "8    [6.647058823529413]  [-1.1176470588235294]  [-1.1176470588235294]   \n",
      "9    [6.647058823529413]   [-257.3529411764706]   [-94.29411764705881]   \n",
      "\n",
      "                       u                      1                      2  \n",
      "0   [1.9411764705882355]  [0.12110726643598571]     [7.65051903114187]  \n",
      "1   [0.0588235294117645]   [-0.986159169550173]  [0.12110726643598571]  \n",
      "2  [-1.1176470588235294]  [-0.3217993079584778]   [-0.986159169550173]  \n",
      "3  [-0.6470588235294119]   [-0.986159169550173]  [-0.8754325259515572]  \n",
      "4  [-1.1176470588235294]   [-0.875432525951557]   [-0.986159169550173]  \n",
      "5  [-0.8823529411764708]   [-0.986159169550173]   [-0.986159169550173]  \n",
      "6  [-1.1176470588235294]   [-0.986159169550173]   [-0.986159169550173]  \n",
      "7  [-1.1176470588235294]    [57.47750865051905]   [-0.986159169550173]  \n",
      "8   [-257.3529411764706]   [-0.986159169550173]      [65715.830449827]  \n",
      "9  [-1.1176470588235294]    [8702.792387543252]   [-0.986159169550173]  \n"
     ]
    }
   ],
   "source": [
    "fibonacciSearch(-3,5,9)"
   ]
  },
  {
   "cell_type": "code",
   "execution_count": 42,
   "metadata": {},
   "outputs": [
    {
     "name": "stdout",
     "output_type": "stream",
     "text": [
      "-0.11764705882352922\n"
     ]
    }
   ],
   "source": []
  },
  {
   "cell_type": "code",
   "execution_count": 8,
   "metadata": {},
   "outputs": [],
   "source": [
    "def dichotomousSearch(a,b,e,length):\n",
    "    df = pd.DataFrame([], columns = list('ablu12'))\n",
    "    \n",
    "    while(mod(b-a) > length):\n",
    "        l = (a+b)/2 - e\n",
    "        u = (a+b)/2 + e\n",
    "        \n",
    "        if(theta(l) > theta(u)):\n",
    "            a = l\n",
    "        else:\n",
    "            b = u\n",
    "        df = df.append(pd.DataFrame([[a,b,l,u,theta(l),theta(u)]], columns = list('ablu12')), ignore_index = True)\n",
    "    print(df)"
   ]
  },
  {
   "cell_type": "code",
   "execution_count": 12,
   "metadata": {},
   "outputs": [
    {
     "name": "stdout",
     "output_type": "stream",
     "text": [
      "           a         b         l         u          1          2\n",
      "0  -5.000000  5.000000 -1.180000  1.180000  66.330509   3.351321\n",
      "1  -1.180000  5.000000  1.180000  2.639240   3.351321  13.961777\n",
      "2  -1.180000  2.639240  0.278950  1.180000   3.590087   3.351321\n",
      "3   0.278950  2.639240  1.180000  1.737609   3.351321   6.224301\n",
      "4   0.278950  1.737609  0.836158  1.180000   2.525189   3.351321\n",
      "5   0.278950  1.180000  0.623151  0.836158   2.502032   2.525189\n",
      "6   0.278950  0.836158  0.491803  0.623151   2.727501   2.502032\n",
      "7   0.491803  0.836158  0.623151  0.704614   2.502032   2.458953\n",
      "8   0.623151  0.836158  0.704614  0.754789   2.458953   2.465432\n",
      "9   0.623151  0.754789  0.673437  0.704614   2.467346   2.458953\n",
      "10  0.673437  0.754789  0.704614  0.723712   2.458953   2.458570\n"
     ]
    }
   ],
   "source": [
    "#goldenSection search between -5 and 5 with required accuracy of atleast 0.1 or at most 100 iterations\n",
    "\n",
    "goldenSection(-5,5,0.1)"
   ]
  },
  {
   "cell_type": "code",
   "execution_count": 13,
   "metadata": {},
   "outputs": [
    {
     "name": "stdout",
     "output_type": "stream",
     "text": [
      "          a         b         l         u          1          2\n",
      "0 -0.010000         5 -0.010000  0.010000   6.121408   5.881392\n",
      "1 -0.010000     2.505  2.485000  2.505000  12.392109  12.590075\n",
      "2 -0.010000    1.2575  1.237500  1.257500   3.567790   3.647790\n",
      "3  0.613750    1.2575  0.613750  0.633750   2.511523   2.492486\n",
      "4  0.613750  0.945625  0.925625  0.945625   2.655808   2.693712\n",
      "5  0.613750  0.789688  0.769688  0.789688   2.471928   2.483836\n",
      "6  0.691719  0.789688  0.691719  0.711719   2.461241   2.458394\n"
     ]
    }
   ],
   "source": [
    "#dichotomous search between -5 and 5 with required accuracy of atleast 0.1 and epsilon = 0.01\n",
    "\n",
    "dichotomousSearch(-5,5,0.01,0.1)"
   ]
  },
  {
   "cell_type": "code",
   "execution_count": null,
   "metadata": {},
   "outputs": [],
   "source": []
  }
 ],
 "metadata": {
  "kernelspec": {
   "display_name": "Python 3",
   "language": "python",
   "name": "python3"
  },
  "language_info": {
   "codemirror_mode": {
    "name": "ipython",
    "version": 3
   },
   "file_extension": ".py",
   "mimetype": "text/x-python",
   "name": "python",
   "nbconvert_exporter": "python",
   "pygments_lexer": "ipython3",
   "version": "3.7.0"
  }
 },
 "nbformat": 4,
 "nbformat_minor": 4
}
