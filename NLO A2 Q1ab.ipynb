{
 "cells": [
  {
   "cell_type": "code",
   "execution_count": 67,
   "metadata": {},
   "outputs": [],
   "source": [
    "#line search without derivative"
   ]
  },
  {
   "cell_type": "code",
   "execution_count": 2,
   "metadata": {},
   "outputs": [],
   "source": [
    "import math\n",
    "import pandas as pd\n",
    "import numpy as np"
   ]
  },
  {
   "cell_type": "code",
   "execution_count": 3,
   "metadata": {},
   "outputs": [],
   "source": [
    "#set the theta(lambda) here\n",
    "def theta(x):\n",
    "    return (x-2)**4 + (x - 6)**2"
   ]
  },
  {
   "cell_type": "code",
   "execution_count": 4,
   "metadata": {},
   "outputs": [],
   "source": [
    "def mod(x):\n",
    "    if x < 0:\n",
    "        return -1 * x\n",
    "    else:\n",
    "        return x"
   ]
  },
  {
   "cell_type": "code",
   "execution_count": 5,
   "metadata": {},
   "outputs": [],
   "source": [
    "def goldenSection(a,b,length):\n",
    "    alpha = 0.618\n",
    "    \n",
    "    #order on the line a, l, u, b\n",
    "    l = a + (1 - alpha) * (b - a)\n",
    "    u = a + alpha * (b-a)\n",
    "    tl = theta(l)\n",
    "    tu = theta(u)\n",
    "    \n",
    "    n = 1\n",
    "    \n",
    "    df = pd.DataFrame([[a,b,l,u,tl,tu]], columns = list('ablu12'))\n",
    "    \n",
    "    while((mod(b-a) > length) and (n < 101)):\n",
    "        #print(df)\n",
    "        if(tl > tu):\n",
    "            #the interval reduced from a,b to l,b\n",
    "            a = l\n",
    "            \n",
    "            #lk+1 = uk\n",
    "            l = u\n",
    "            tl = tu #this step is key because this saves us one theta computation each iter\n",
    "            \n",
    "            #uk+1 =  ak+1 + alpha * (bk+1-ak+1)\n",
    "            u =  a + alpha * (b-a)\n",
    "            tu = theta(u)\n",
    "                                \n",
    "        else:\n",
    "            #the interval reduces to a,u\n",
    "            b = u\n",
    "            \n",
    "            #uk+1 = lk\n",
    "            u = l\n",
    "            tu = tl #this step is key because this saves us one theta computation each iter\n",
    "            \n",
    "            #lk+1 = ak+1 + (1 - alpha) * (bk+1 - ak+1)\n",
    "            l = a + (1 - alpha) * (b - a)\n",
    "            tl = theta(l)\n",
    "            \n",
    "        #updating iter\n",
    "        n += 1\n",
    "        df = df.append(pd.DataFrame([[a,b,l,u,tl,tu]], columns = list('ablu12')), ignore_index = True)\n",
    "    print(df)"
   ]
  },
  {
   "cell_type": "code",
   "execution_count": 6,
   "metadata": {},
   "outputs": [],
   "source": [
    "def fib(n):\n",
    "    l = np.zeros([n,1])\n",
    "    #print(l)\n",
    "    for i in range(n):\n",
    "        if i == 0 or i == 1:\n",
    "            l[i] = 1\n",
    "        else:\n",
    "            l[i] = (l[i-1] + l[i-2])\n",
    "    return l"
   ]
  },
  {
   "cell_type": "code",
   "execution_count": 7,
   "metadata": {},
   "outputs": [],
   "source": [
    "#some error\n",
    "def fibonacciSearch(a,b,n):\n",
    "    flist = fib(n)\n",
    "    \n",
    "    l = a + (flist[n-1-2]/flist[n-1]) * (b - a)\n",
    "    u = a = (flist[n-1-1]/flist[n-1]) * (b - a)\n",
    "    tl = theta(l)\n",
    "    tu = theta(u)\n",
    "       \n",
    "    df = pd.DataFrame([[a,b,l,u,tl,tu]], columns = list('ablu12'))\n",
    "    \n",
    "    for k in range(n + 1):\n",
    "        #for notational simplicity\n",
    "        if k == 0:\n",
    "            continue\n",
    "        \n",
    "        if(tl > tu):\n",
    "            #the interval reduced from a,b to l,b\n",
    "            a = l\n",
    "            \n",
    "            #lk+1 = uk\n",
    "            l = u\n",
    "            tl = tu #this step is key because this saves us one theta computation each iter\n",
    "            \n",
    "        \n",
    "            u =  a + (flist[n-1 - k - 1]/flist[n-1 - k]) * (b - a)\n",
    "            tu = theta(u)\n",
    "            \n",
    "            df = df.append(pd.DataFrame([[a,b,l,u,tl,tu]], columns = list('ablu12')), ignore_index = True)\n",
    "                        \n",
    "        else:\n",
    "            #the interval reduces to a,u\n",
    "            b = u\n",
    "            \n",
    "            #uk+1 = lk\n",
    "            u = l\n",
    "            tu = tl #this step is key because this saves us one theta computation each iter\n",
    "            \n",
    "           \n",
    "            l = a + (flist[n-1 - k - 2]/flist[n-1 - k]) * (b - a)\n",
    "            tl = theta(l)\n",
    "        \n",
    "            df = df.append(pd.DataFrame([[a,b,l,u,tl,tu]], columns = list('ablu12')), ignore_index = True)\n",
    "    print(df)"
   ]
  },
  {
   "cell_type": "code",
   "execution_count": 1,
   "metadata": {},
   "outputs": [],
   "source": [
    "def dichotomousSearch(a,b,e,length):\n",
    "    df = pd.DataFrame([], columns = list('ablu12'))\n",
    "    \n",
    "    while(mod(b-a) > length):\n",
    "        l = (a+b)/2 - e\n",
    "        u = (a+b)/2 + e\n",
    "        \n",
    "        df = df.append(pd.DataFrame([[a,b,l,u,theta(l),theta(u)]], columns = list('ablu12')), ignore_index = True)\n",
    "        \n",
    "        if(theta(l) > theta(u)):\n",
    "            a = l\n",
    "        else:\n",
    "            b = u\n",
    "            \n",
    "    print(df)"
   ]
  },
  {
   "cell_type": "code",
   "execution_count": 12,
   "metadata": {},
   "outputs": [
    {
     "name": "stdout",
     "output_type": "stream",
     "text": [
      "              a            b           l           u             1  \\\n",
      "0  -1000.000000  1000.000000 -236.000000  236.000000  3.208601e+09   \n",
      "1   -236.000000  1000.000000  236.000000  527.848000  2.998272e+09   \n",
      "2   -236.000000   527.848000   55.789936  236.000000  8.373995e+06   \n",
      "3   -236.000000   236.000000  -55.696000   55.789936  1.108491e+07   \n",
      "4    -55.696000   236.000000   55.789936  124.572128  8.373995e+06   \n",
      "5    -55.696000   124.572128   13.166425   55.789936  1.559872e+04   \n",
      "6    -55.696000    55.789936  -13.108372   13.166425  5.246909e+04   \n",
      "7    -13.108372    55.789936   13.166425   29.470782  1.559872e+04   \n",
      "8    -13.108372    29.470782    3.156865   13.166425  9.874561e+00   \n",
      "9    -13.108372    13.166425   -3.071400    3.156865  7.437622e+02   \n",
      "10    -3.071400    13.166425    3.156865    6.963576  9.874561e+00   \n",
      "11    -3.071400     6.963576    0.761961    3.156865  2.978635e+01   \n",
      "12     0.761961     6.963576    3.156865    4.594559  9.874561e+00   \n",
      "13     0.761961     4.594559    2.226013    3.156865  1.424558e+01   \n",
      "14     2.226013     4.594559    3.156865    3.689774  9.874561e+00   \n",
      "15     2.226013     3.689774    2.785170    3.156865  1.071519e+01   \n",
      "16     2.785170     3.689774    3.156865    3.344216  9.874561e+00   \n",
      "17     2.785170     3.344216    2.998725    3.156865  1.000256e+01   \n",
      "18     2.998725     3.344216    3.156865    3.212238  9.874561e+00   \n",
      "19     2.998725     3.212238    3.080287    3.156865  9.886659e+00   \n",
      "20     3.080287     3.212238    3.156865    3.161833  9.874561e+00   \n",
      "\n",
      "               2  \n",
      "0   2.998272e+09  \n",
      "1   7.646144e+10  \n",
      "2   2.998272e+09  \n",
      "3   8.373995e+06  \n",
      "4   2.257324e+08  \n",
      "5   8.373995e+06  \n",
      "6   1.559872e+04  \n",
      "7   5.700383e+05  \n",
      "8   1.559872e+04  \n",
      "9   9.874561e+00  \n",
      "10  6.079144e+02  \n",
      "11  9.874561e+00  \n",
      "12  4.729153e+01  \n",
      "13  9.874561e+00  \n",
      "14  1.349010e+01  \n",
      "15  9.874561e+00  \n",
      "16  1.031813e+01  \n",
      "17  9.874561e+00  \n",
      "18  9.931109e+00  \n",
      "19  9.874561e+00  \n",
      "20  9.877303e+00  \n"
     ]
    }
   ],
   "source": [
    "#goldenSection search between -5 and 5 with required accuracy of atleast 0.1 or at most 100 iterations\n",
    "\n",
    "goldenSection(-1000,1000,0.2)"
   ]
  },
  {
   "cell_type": "code",
   "execution_count": 106,
   "metadata": {},
   "outputs": [
    {
     "name": "stdout",
     "output_type": "stream",
     "text": [
      "         a         b         l         u          1          2\n",
      "0       -5         5 -0.010000  0.010000   6.121408   5.881392\n",
      "1    -0.01         5  2.485000  2.505000  12.392109  12.590075\n",
      "2    -0.01     2.505  1.237500  1.257500   3.567790   3.647790\n",
      "3    -0.01    1.2575  0.613750  0.633750   2.511523   2.492486\n",
      "4  0.61375    1.2575  0.925625  0.945625   2.655808   2.693712\n",
      "5  0.61375  0.945625  0.769688  0.789688   2.471928   2.483836\n",
      "6  0.61375  0.789688  0.691719  0.711719   2.461241   2.458394\n"
     ]
    }
   ],
   "source": [
    "#dichotomous search between -5 and 5 with required accuracy of atleast 0.1 and epsilon = 0.01\n",
    "\n",
    "dichotomousSearch(-5,5,0.01,0.1)"
   ]
  },
  {
   "cell_type": "code",
   "execution_count": null,
   "metadata": {},
   "outputs": [],
   "source": []
  }
 ],
 "metadata": {
  "kernelspec": {
   "display_name": "Python 3",
   "language": "python",
   "name": "python3"
  },
  "language_info": {
   "codemirror_mode": {
    "name": "ipython",
    "version": 3
   },
   "file_extension": ".py",
   "mimetype": "text/x-python",
   "name": "python",
   "nbconvert_exporter": "python",
   "pygments_lexer": "ipython3",
   "version": "3.7.0"
  }
 },
 "nbformat": 4,
 "nbformat_minor": 4
}
